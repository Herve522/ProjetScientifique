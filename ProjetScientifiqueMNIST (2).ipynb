{
  "nbformat": 4,
  "nbformat_minor": 0,
  "metadata": {
    "colab": {
      "name": "ProjetScientifiqueMNIST.ipynb",
      "provenance": [],
      "collapsed_sections": []
    },
    "kernelspec": {
      "name": "python3",
      "display_name": "Python 3"
    }
  },
  "cells": [
    {
      "cell_type": "markdown",
      "metadata": {
        "id": "02rnbS-COVqz"
      },
      "source": [
        "# Imports "
      ]
    },
    {
      "cell_type": "code",
      "metadata": {
        "id": "PKeum9_8OFe_"
      },
      "source": [
        "import numpy as np #NumPy pour Numerical Python, pour travailler avec des arrays\n",
        "from matplotlib import pyplot as plt #pour faire des graphiques  \n",
        "%matplotlib inline\n",
        "import keras \n",
        "from keras.models import Sequential\n",
        "from keras.layers import Dense, Dropout\n",
        "np.random.seed(0)"
      ],
      "execution_count": null,
      "outputs": []
    },
    {
      "cell_type": "markdown",
      "metadata": {
        "id": "inhgDYxgQ0Fd"
      },
      "source": [
        "# Données"
      ]
    },
    {
      "cell_type": "code",
      "metadata": {
        "colab": {
          "base_uri": "https://localhost:8080/"
        },
        "id": "70eP_8c7PPwz",
        "outputId": "326fe6d1-35df-43d1-8ee3-93264dd6e8e1"
      },
      "source": [
        "from keras.datasets import mnist\n",
        "(x_train, y_train), (x_test, y_test) = mnist.load_data()"
      ],
      "execution_count": null,
      "outputs": [
        {
          "output_type": "stream",
          "text": [
            "Downloading data from https://storage.googleapis.com/tensorflow/tf-keras-datasets/mnist.npz\n",
            "11493376/11490434 [==============================] - 0s 0us/step\n"
          ],
          "name": "stdout"
        }
      ]
    },
    {
      "cell_type": "code",
      "metadata": {
        "colab": {
          "base_uri": "https://localhost:8080/"
        },
        "id": "w59XS7OUROkJ",
        "outputId": "c27681b7-1086-4278-8a80-6c63143227ea"
      },
      "source": [
        "print(x_train.shape, y_train.shape) #60 000 images de 28x28 pixels, avec 60 000 valeurs (de 0 à 9) allant avec les images pour l'entrainement\n",
        "print(x_test.shape, y_test.shape) #10 000 images et leurs 10 000 valeurs pour tester l'algorithme"
      ],
      "execution_count": null,
      "outputs": [
        {
          "output_type": "stream",
          "text": [
            "(60000, 28, 28) (60000,)\n",
            "(10000, 28, 28) (10000,)\n"
          ],
          "name": "stdout"
        }
      ]
    },
    {
      "cell_type": "markdown",
      "metadata": {
        "id": "RQYY9u7mkQjM"
      },
      "source": [
        "#Exemples"
      ]
    },
    {
      "cell_type": "code",
      "metadata": {
        "colab": {
          "base_uri": "https://localhost:8080/",
          "height": 158
        },
        "id": "8etkHYReSFZo",
        "outputId": "b3ef3a40-7e3e-4b1b-9566-e2686d0020c0"
      },
      "source": [
        "num_classes = 10\n",
        "f, ax = plt.subplots(1, num_classes, figsize=(28,28))\n",
        "#Seulement à titre d'exemple de ce que j'utilise pour l'algorithme\n",
        "for i in range(0, num_classes):\n",
        "  sample = x_train[y_train == i][0]#image x_train avec le y_train correspondant, 0 veut dire la première image de la pile d'images de cette valeur\n",
        "  ax[i].imshow(sample, cmap='gray')#Affichage de l'image en grayscale\n",
        "  ax[i].set_title(\"Valeur: {}\".format(i), fontsize=16)#Affichage de l'en-tête"
      ],
      "execution_count": null,
      "outputs": [
        {
          "output_type": "display_data",
          "data": {
            "image/png": "[encoded data removed]",
            "text/plain": [
              "<Figure size 2016x2016 with 10 Axes>"
            ]
          },
          "metadata": {
            "tags": [],
            "needs_background": "light"
          }
        }
      ]
    },
    {
      "cell_type": "code",
      "metadata": {
        "colab": {
          "base_uri": "https://localhost:8080/"
        },
        "id": "ZIwsmcAzSlDT",
        "outputId": "e3c50bdf-595e-47dc-8727-e7a95ed5a58d"
      },
      "source": [
        "for i in range(10):#Les valeurs de y_train\n",
        "  print(y_train[i])"
      ],
      "execution_count": null,
      "outputs": [
        {
          "output_type": "stream",
          "text": [
            "5\n",
            "0\n",
            "4\n",
            "1\n",
            "9\n",
            "2\n",
            "1\n",
            "3\n",
            "1\n",
            "4\n"
          ],
          "name": "stdout"
        }
      ]
    },
    {
      "cell_type": "code",
      "metadata": {
        "id": "U1ngLf0IkYa3"
      },
      "source": [
        "#Ces 2 lignes de code permettent à l'algorithme de faire des prédictions plus concrètes\n",
        "#Par exemple, le y_test est un 5 mais l'algorithme hésite entre 5 et 3\n",
        "#Plutôt que de dire une valeur entre 3 et 5\n",
        "y_train = keras.utils.to_categorical(y_train, num_classes)\n",
        "y_test = keras.utils.to_categorical(y_test, num_classes)"
      ],
      "execution_count": null,
      "outputs": []
    },
    {
      "cell_type": "code",
      "metadata": {
        "colab": {
          "base_uri": "https://localhost:8080/"
        },
        "id": "Yb9fNbGdUsn_",
        "outputId": "87258160-11e8-4846-ceb2-8739db109abb"
      },
      "source": [
        "for i in range(10):\n",
        "  print(y_train[i])\n",
        "#Il va prédire 0.92 à la 5iem position et 0.08 à la 3iem position\n",
        "#Ici comme ce sont les valeurs en tant que telles et non des prédictions, il y a que des 1 aux mêmes endroits que plus haut"
      ],
      "execution_count": null,
      "outputs": [
        {
          "output_type": "stream",
          "text": [
            "[0. 0. 0. 0. 0. 1. 0. 0. 0. 0.]\n",
            "[1. 0. 0. 0. 0. 0. 0. 0. 0. 0.]\n",
            "[0. 0. 0. 0. 1. 0. 0. 0. 0. 0.]\n",
            "[0. 1. 0. 0. 0. 0. 0. 0. 0. 0.]\n",
            "[0. 0. 0. 0. 0. 0. 0. 0. 0. 1.]\n",
            "[0. 0. 1. 0. 0. 0. 0. 0. 0. 0.]\n",
            "[0. 1. 0. 0. 0. 0. 0. 0. 0. 0.]\n",
            "[0. 0. 0. 1. 0. 0. 0. 0. 0. 0.]\n",
            "[0. 1. 0. 0. 0. 0. 0. 0. 0. 0.]\n",
            "[0. 0. 0. 0. 1. 0. 0. 0. 0. 0.]\n"
          ],
          "name": "stdout"
        }
      ]
    },
    {
      "cell_type": "markdown",
      "metadata": {
        "id": "VQDCdqc7WI3q"
      },
      "source": [
        "#Préparation des données"
      ]
    },
    {
      "cell_type": "code",
      "metadata": {
        "id": "jbFxJjmFU2PV"
      },
      "source": [
        "#Normalisation des données\n",
        "#Les images grayscale ont des tons de variant de 0 à 255, 0 étant noir et 255 étant blanc\n",
        "#En le normalisant, on s'assure que les valeurs des tons sont entre 0 et 1\n",
        "x_train = x_train / 255.0\n",
        "x_test = x_test / 255.0"
      ],
      "execution_count": null,
      "outputs": []
    },
    {
      "cell_type": "code",
      "metadata": {
        "colab": {
          "base_uri": "https://localhost:8080/"
        },
        "id": "liT_ZvsGXQMx",
        "outputId": "e0fa030c-e852-4310-902a-12ae36a98a83"
      },
      "source": [
        "#Redimension des données\n",
        "#Plutôt que d'envoyer dans l'algorithme des images de 28x28, je le redimensionne en 1 long vecteur de 784 (784 = 28*28)\n",
        "x_train = x_train.reshape(x_train.shape[0], -1)#0 pour garder le même nombre d'images, et -1 pour redimensionner à 784\n",
        "x_test = x_test.reshape(x_test.shape[0], -1)\n",
        "print(x_train.shape)"
      ],
      "execution_count": null,
      "outputs": [
        {
          "output_type": "stream",
          "text": [
            "(60000, 784)\n"
          ],
          "name": "stdout"
        }
      ]
    },
    {
      "cell_type": "markdown",
      "metadata": {
        "id": "jFFXpasfYImk"
      },
      "source": [
        "#Création du modèle\n",
        "Réseau de neurones"
      ]
    },
    {
      "cell_type": "code",
      "metadata": {
        "colab": {
          "base_uri": "https://localhost:8080/"
        },
        "id": "0ABc75CGYBDx",
        "outputId": "55959a55-9e68-4617-aeab-1e1efae2dae1"
      },
      "source": [
        "model = Sequential()#Un modèle Sequential dans Keras nous permet d'ajouter plusieurs couches, ce modèle a 1 input et 1 output seulement (image, valeur)\n",
        "#units est le nombre de neurones dans chaque couche, shape est la dimension de l'entrée, activation est la fonction d'activation de l'algorithme (rectified linear unit)\n",
        "model.add(Dense(units=128, input_shape=(784,), activation='relu'))\n",
        "model.add(Dense(units=128, activation='relu'))\n",
        "#Dropout veut dire que 25% des neurones seront perdu aléatoirement pour rendre modèle meilleur pour généraliser (les autres neurones vont prendre la place de ceux qui sont perdus)\n",
        "#Cette généralisation amènera des meilleures prédictions\n",
        "model.add(Dropout(0.25))\n",
        "model.add(Dense(units=10, activation='softmax'))#softmax converti un vecteur de nombres en un vecteur de probabilités\n",
        "#Compilation du modèle et affichage\n",
        "model.compile(loss='categorical_crossentropy', optimizer='adam', metrics=['accuracy'])\n",
        "model.summary()"
      ],
      "execution_count": null,
      "outputs": [
        {
          "output_type": "stream",
          "text": [
            "Model: \"sequential\"\n",
            "_________________________________________________________________\n",
            "Layer (type)                 Output Shape              Param #   \n",
            "=================================================================\n",
            "dense (Dense)                (None, 128)               100480    \n",
            "_________________________________________________________________\n",
            "dense_1 (Dense)              (None, 128)               16512     \n",
            "_________________________________________________________________\n",
            "dropout (Dropout)            (None, 128)               0         \n",
            "_________________________________________________________________\n",
            "dense_2 (Dense)              (None, 10)                1290      \n",
            "=================================================================\n",
            "Total params: 118,282\n",
            "Trainable params: 118,282\n",
            "Non-trainable params: 0\n",
            "_________________________________________________________________\n"
          ],
          "name": "stdout"
        }
      ]
    },
    {
      "cell_type": "markdown",
      "metadata": {
        "id": "q5O_FGbph3fc"
      },
      "source": [
        "#Entrainement du modèle "
      ]
    },
    {
      "cell_type": "code",
      "metadata": {
        "colab": {
          "base_uri": "https://localhost:8080/"
        },
        "id": "BJWCzwtxoTTL",
        "outputId": "6ca86b54-53a9-433b-bf3c-9f887f854bf4"
      },
      "source": [
        "batch_size = 512#nombre d'images passées à la fois\n",
        "epochs=20#nombre de fois que je passe les 60 000 images\n",
        "model.fit(x=x_train, y=y_train, batch_size=batch_size, epochs=epochs)"
      ],
      "execution_count": null,
      "outputs": [
        {
          "output_type": "stream",
          "text": [
            "Epoch 1/20\n",
            "118/118 [==============================] - 1s 9ms/step - loss: 0.0501 - accuracy: 0.9845\n",
            "Epoch 2/20\n",
            "118/118 [==============================] - 1s 10ms/step - loss: 0.0434 - accuracy: 0.9870\n",
            "Epoch 3/20\n",
            "118/118 [==============================] - 1s 9ms/step - loss: 0.0396 - accuracy: 0.9881\n",
            "Epoch 4/20\n",
            "118/118 [==============================] - 1s 10ms/step - loss: 0.0361 - accuracy: 0.9894\n",
            "Epoch 5/20\n",
            "118/118 [==============================] - 1s 9ms/step - loss: 0.0323 - accuracy: 0.9901\n",
            "Epoch 6/20\n",
            "118/118 [==============================] - 1s 9ms/step - loss: 0.0298 - accuracy: 0.9907\n",
            "Epoch 7/20\n",
            "118/118 [==============================] - 1s 9ms/step - loss: 0.0258 - accuracy: 0.9916\n",
            "Epoch 8/20\n",
            "118/118 [==============================] - 1s 10ms/step - loss: 0.0251 - accuracy: 0.9923\n",
            "Epoch 9/20\n",
            "118/118 [==============================] - 1s 10ms/step - loss: 0.0203 - accuracy: 0.9938\n",
            "Epoch 10/20\n",
            "118/118 [==============================] - 1s 10ms/step - loss: 0.0187 - accuracy: 0.9942\n",
            "Epoch 11/20\n",
            "118/118 [==============================] - 1s 10ms/step - loss: 0.0188 - accuracy: 0.9942\n",
            "Epoch 12/20\n",
            "118/118 [==============================] - 1s 10ms/step - loss: 0.0153 - accuracy: 0.9953\n",
            "Epoch 13/20\n",
            "118/118 [==============================] - 1s 10ms/step - loss: 0.0139 - accuracy: 0.9962\n",
            "Epoch 14/20\n",
            "118/118 [==============================] - 1s 9ms/step - loss: 0.0134 - accuracy: 0.9961\n",
            "Epoch 15/20\n",
            "118/118 [==============================] - 1s 10ms/step - loss: 0.0110 - accuracy: 0.9970\n",
            "Epoch 16/20\n",
            "118/118 [==============================] - 1s 9ms/step - loss: 0.0117 - accuracy: 0.9966\n",
            "Epoch 17/20\n",
            "118/118 [==============================] - 1s 9ms/step - loss: 0.0112 - accuracy: 0.9967\n",
            "Epoch 18/20\n",
            "118/118 [==============================] - 1s 9ms/step - loss: 0.0093 - accuracy: 0.9972\n",
            "Epoch 19/20\n",
            "118/118 [==============================] - 1s 9ms/step - loss: 0.0104 - accuracy: 0.9969\n",
            "Epoch 20/20\n",
            "118/118 [==============================] - 1s 9ms/step - loss: 0.0089 - accuracy: 0.9975\n"
          ],
          "name": "stdout"
        },
        {
          "output_type": "execute_result",
          "data": {
            "text/plain": [
              "<tensorflow.python.keras.callbacks.History at 0x7fc3d78097d0>"
            ]
          },
          "metadata": {
            "tags": []
          },
          "execution_count": 14
        }
      ]
    },
    {
      "cell_type": "code",
      "metadata": {
        "id": "U4zGO5o2oZ7U"
      },
      "source": [
        "#On peut voir qu'après chaque epoch, la précision augmente, et la perte diminue"
      ],
      "execution_count": null,
      "outputs": []
    },
    {
      "cell_type": "markdown",
      "metadata": {
        "id": "NkScmA9JX6Pp"
      },
      "source": [
        "#Évaluation"
      ]
    },
    {
      "cell_type": "code",
      "metadata": {
        "colab": {
          "base_uri": "https://localhost:8080/"
        },
        "id": "C_3nL8pzX7fZ",
        "outputId": "cdcb39b5-9e79-41ab-d175-9696706ed0ad"
      },
      "source": [
        "perte, precision = model.evaluate(x_test, y_test)#Je passe les valeurs tests dans le modèle\n",
        "print(\"Perte: {}, Précision: {}\".format(perte, precision))#Affichage des résultats"
      ],
      "execution_count": null,
      "outputs": [
        {
          "output_type": "stream",
          "text": [
            "313/313 [==============================] - 0s 1ms/step - loss: 0.0824 - accuracy: 0.9796\n",
            "Perte: 0.0824124813079834, Précision: 0.9796000123023987\n"
          ],
          "name": "stdout"
        }
      ]
    },
    {
      "cell_type": "markdown",
      "metadata": {
        "id": "LVk8IswlnKw7"
      },
      "source": [
        "#Exemples de prédictions"
      ]
    },
    {
      "cell_type": "code",
      "metadata": {
        "colab": {
          "base_uri": "https://localhost:8080/",
          "height": 300
        },
        "id": "U6yJ1zIGeGzq",
        "outputId": "da3d0fbf-d1e7-42ad-ab4d-3d58f9996a71"
      },
      "source": [
        "#Bonne prédiction\n",
        "random_index = np.random.choice(len(x_test)) #index aléatoire parmis les valeurs test\n",
        "x_sample = x_test[random_index] #image aléatoire\n",
        "y_true = np.argmax(y_test, axis=1) #graduation des axes\n",
        "y_sample_true = y_true[random_index] #bonne valeur de l'image\n",
        "y_sample_pred_class = y_pred_classes[random_index] #prédiction de l'image\n",
        "#Affichage \n",
        "plt.title(\"Prédiction: {}, Valeur: {}\".format(y_sample_pred_class, y_sample_true), fontsize=16)\n",
        "plt.imshow(x_sample.reshape(28, 28), cmap='gray')"
      ],
      "execution_count": null,
      "outputs": [
        {
          "output_type": "execute_result",
          "data": {
            "text/plain": [
              "<matplotlib.image.AxesImage at 0x7fc3d673ba90>"
            ]
          },
          "metadata": {
            "tags": []
          },
          "execution_count": 17
        },
        {
          "output_type": "display_data",
          "data": {
            "image/png": "[encoded data removed]",
            "text/plain": [
              "<Figure size 432x288 with 1 Axes>"
            ]
          },
          "metadata": {
            "tags": [],
            "needs_background": "light"
          }
        }
      ]
    },
    {
      "cell_type": "code",
      "metadata": {
        "colab": {
          "base_uri": "https://localhost:8080/",
          "height": 300
        },
        "id": "f5oQ-LOJnE3B",
        "outputId": "4409d1b0-a255-4905-f8f3-b77c602f1621"
      },
      "source": [
        "#Mauvaise prédiction suite à plusieurs essais de générations aléatoires\n",
        "random_index = np.random.choice(len(x_test)) #index aléatoire parmis les valeurs test\n",
        "x_sample = x_test[random_index] #image aléatoire\n",
        "y_true = np.argmax(y_test, axis=1) #graduation des axes\n",
        "y_sample_true = y_true[random_index] #bonne valeur de l'image\n",
        "y_sample_pred_class = y_pred_classes[random_index] #prédiction de l'image\n",
        "#Affichage \n",
        "plt.title(\"Prédiction: {}, Valeur: {}\".format(y_sample_pred_class, y_sample_true), fontsize=16)\n",
        "plt.imshow(x_sample.reshape(28, 28), cmap='gray')"
      ],
      "execution_count": null,
      "outputs": [
        {
          "output_type": "execute_result",
          "data": {
            "text/plain": [
              "<matplotlib.image.AxesImage at 0x7fc3d2d262d0>"
            ]
          },
          "metadata": {
            "tags": []
          },
          "execution_count": 165
        },
        {
          "output_type": "display_data",
          "data": {
            "image/png": "[encoded data removed]",
            "text/plain": [
              "<Figure size 432x288 with 1 Axes>"
            ]
          },
          "metadata": {
            "tags": [],
            "needs_background": "light"
          }
        }
      ]
    },
    {
      "cell_type": "code",
      "metadata": {
        "id": "xmgmZGwUnFrY"
      },
      "source": [
        ""
      ],
      "execution_count": null,
      "outputs": []
    }
  ]
}